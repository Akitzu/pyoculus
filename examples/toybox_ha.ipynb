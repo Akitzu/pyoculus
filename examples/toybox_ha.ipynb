{
 "cells": [
  {
   "cell_type": "markdown",
   "metadata": {},
   "source": [
    "# Toybox High Aspect Ratio equilibirum\n",
    "\n"
   ]
  },
  {
   "cell_type": "code",
   "execution_count": 1,
   "metadata": {},
   "outputs": [],
   "source": [
    "import numpy as np\n",
    "from pyoculus.fields import AnalyticCylindricalBfield\n",
    "from pyoculus.maps import CylindricalBfieldSection\n",
    "from pyoculus.solvers import PoincarePlot, FixedPoint, Manifold"
   ]
  },
  {
   "cell_type": "code",
   "execution_count": 2,
   "metadata": {},
   "outputs": [],
   "source": [
    "import logging\n",
    "logging.basicConfig(level=logging.INFO)"
   ]
  },
  {
   "cell_type": "markdown",
   "metadata": {},
   "source": []
  },
  {
   "cell_type": "code",
   "execution_count": 3,
   "metadata": {},
   "outputs": [],
   "source": [
    "bfield = AnalyticCylindricalBfield(6, 0, 1, 0.5)"
   ]
  },
  {
   "cell_type": "code",
   "execution_count": 4,
   "metadata": {},
   "outputs": [],
   "source": [
    "section = CylindricalBfieldSection(bfield, R0=6, Z0=0, rtol=1e-12, nsteps=1e4)"
   ]
  },
  {
   "cell_type": "markdown",
   "metadata": {},
   "source": [
    "### Plotting the unperturbed equilibrium "
   ]
  },
  {
   "cell_type": "code",
   "execution_count": 5,
   "metadata": {},
   "outputs": [],
   "source": [
    "pplot = PoincarePlot.with_horizontal(section, 1, 10)"
   ]
  },
  {
   "cell_type": "code",
   "execution_count": null,
   "metadata": {},
   "outputs": [],
   "source": [
    "pplot.compute(compute_iota=True)"
   ]
  },
  {
   "cell_type": "code",
   "execution_count": null,
   "metadata": {},
   "outputs": [],
   "source": [
    "fig, ax = pplot.plot()\n",
    "ax.scatter(section.R0, section.Z0)"
   ]
  },
  {
   "cell_type": "code",
   "execution_count": null,
   "metadata": {},
   "outputs": [],
   "source": [
    "pplot.compute_iota()"
   ]
  },
  {
   "cell_type": "code",
   "execution_count": null,
   "metadata": {},
   "outputs": [],
   "source": [
    "import matplotlib.pyplot as plt\n",
    "plt.plot(np.linalg.norm(pplot.xs, axis=1), 1 / pplot.iota)"
   ]
  },
  {
   "cell_type": "markdown",
   "metadata": {},
   "source": [
    "## Adding the maxwellian perturbation"
   ]
  },
  {
   "cell_type": "code",
   "execution_count": 5,
   "metadata": {},
   "outputs": [
    {
     "name": "stderr",
     "output_type": "stream",
     "text": [
      "INFO:pyoculus.solvers.fixed_point:Newton 0 - x : [6. 0.]\n",
      "INFO:jax._src.xla_bridge:Unable to initialize backend 'rocm': module 'jaxlib.xla_extension' has no attribute 'GpuAllocatorConfig'\n",
      "INFO:jax._src.xla_bridge:Unable to initialize backend 'tpu': INTERNAL: Failed to open libtpu.so: libtpu.so: cannot open shared object file: No such file or directory\n",
      "INFO:pyoculus.solvers.fixed_point:Newton 0 - delta_x : [0. 0.]\n",
      "INFO:pyoculus.solvers.fixed_point:Found fixed point at [6. 0.]. Computing additional data...\n"
     ]
    }
   ],
   "source": [
    "maxwellboltzmann = {\"R\": section.R0, \"Z\": section.Z0,\n",
    "                    \"m\": 3, \"n\": -2, \"d\": 1.75/np.sqrt(2), \"type\": \"maxwell-boltzmann\", \"amplitude\": 1e-1}\n",
    "bfield.add_perturbation(maxwellboltzmann)\n",
    "\n",
    "section.clear_cache()\n",
    "section.find_axis()"
   ]
  },
  {
   "cell_type": "code",
   "execution_count": 6,
   "metadata": {},
   "outputs": [
    {
     "name": "stderr",
     "output_type": "stream",
     "text": [
      "INFO:pyoculus.solvers.fixed_point:Newton 0 - x : [5.05 0.  ]\n",
      "INFO:pyoculus.solvers.fixed_point:Newton 0 - delta_x : [ 0.26576426 -0.44516152]\n",
      "INFO:pyoculus.solvers.fixed_point:Newton 0 - step : [-0.07551086 -0.12133307]\n",
      "INFO:pyoculus.solvers.fixed_point:Newton 1 - x : [ 4.97448914 -0.12133307]\n",
      "INFO:pyoculus.solvers.fixed_point:Newton 1 - delta_x : [-0.00742598  0.29070084]\n",
      "INFO:pyoculus.solvers.fixed_point:Newton 1 - step : [0.03294384 0.09750858]\n",
      "INFO:pyoculus.solvers.fixed_point:Newton 2 - x : [ 5.00743299 -0.02382449]\n",
      "INFO:pyoculus.solvers.fixed_point:Newton 2 - delta_x : [-0.01320026  0.09889978]\n",
      "INFO:pyoculus.solvers.fixed_point:Newton 2 - step : [0.01069784 0.01841836]\n",
      "INFO:pyoculus.solvers.fixed_point:Newton 3 - x : [ 5.01813083 -0.00540613]\n",
      "INFO:pyoculus.solvers.fixed_point:Newton 3 - delta_x : [0.00193401 0.00457579]\n",
      "INFO:pyoculus.solvers.fixed_point:Newton 3 - step : [0.0019237  0.00543216]\n",
      "INFO:pyoculus.solvers.fixed_point:Newton 4 - x : [5.02005453e+00 2.60268730e-05]\n",
      "INFO:pyoculus.solvers.fixed_point:Newton 4 - delta_x : [-0.00010907  0.00029694]\n",
      "INFO:pyoculus.solvers.fixed_point:Newton 4 - step : [ 8.60216721e-06 -2.61207983e-05]\n",
      "INFO:pyoculus.solvers.fixed_point:Newton 5 - x : [ 5.02006313e+00 -9.39253565e-08]\n",
      "INFO:pyoculus.solvers.fixed_point:Newton 5 - delta_x : [5.36599893e-08 1.62537102e-08]\n",
      "INFO:pyoculus.solvers.fixed_point:Newton 5 - step : [3.02893328e-08 9.39271337e-08]\n",
      "INFO:pyoculus.solvers.fixed_point:Newton 6 - x : [5.02006316e+00 1.77715707e-12]\n",
      "INFO:pyoculus.solvers.fixed_point:Newton 6 - delta_x : [ 2.04281037e-14 -4.54468081e-14]\n",
      "INFO:pyoculus.solvers.fixed_point:Found fixed point at [5.02006316e+00 1.77715707e-12]. Computing additional data...\n"
     ]
    }
   ],
   "source": [
    "fp_x1 = FixedPoint(section)\n",
    "guess = [5.05, 0]\n",
    "\n",
    "fp_x1.find(3, guess)\n",
    "# fp01.find_with_iota(0, 1, guess)\n",
    "\n",
    "fp_x1._found_by_iota = True\n",
    "fp_x1._m = 3"
   ]
  },
  {
   "cell_type": "code",
   "execution_count": null,
   "metadata": {},
   "outputs": [],
   "source": [
    "pplot = PoincarePlot.with_horizontal(section, 1, 10)\n",
    "pplot.compute(compute_iota=True)\n",
    "fig, ax = pplot.plot()\n",
    "ax.scatter(section.R0, section.Z0)\n",
    "fp_x1.plot(ax=ax)"
   ]
  },
  {
   "cell_type": "code",
   "execution_count": null,
   "metadata": {},
   "outputs": [],
   "source": [
    "pplot.compute_iota()\n",
    "import matplotlib.pyplot as plt\n",
    "plt.plot(np.linalg.norm(pplot.xs, axis=1), 1 / pplot.iota)"
   ]
  },
  {
   "cell_type": "code",
   "execution_count": 7,
   "metadata": {},
   "outputs": [
    {
     "name": "stderr",
     "output_type": "stream",
     "text": [
      "INFO:pyoculus.solvers.fixed_point:Newton 0 - x : [6.37050595 0.92340241]\n",
      "INFO:pyoculus.solvers.fixed_point:Newton 0 - delta_x : [-1.27322153e-10  9.62963043e-12]\n",
      "INFO:pyoculus.solvers.fixed_point:Newton 0 - step : [5.86197757e-12 2.78355117e-12]\n",
      "INFO:pyoculus.solvers.fixed_point:Newton 1 - x : [6.37050595 0.92340241]\n",
      "INFO:pyoculus.solvers.fixed_point:Newton 1 - delta_x : [-6.48370246e-14  2.88657986e-15]\n",
      "INFO:pyoculus.solvers.fixed_point:Found fixed point at [6.37050595 0.92340241]. Computing additional data...\n"
     ]
    }
   ],
   "source": [
    "fp_x2 = FixedPoint(section)\n",
    "\n",
    "fp_x2.find(3, fp_x1.coords[1])\n",
    "# fp01.find_with_iota(0, 1, guess)\n",
    "\n",
    "fp_x2._found_by_iota = True\n",
    "fp_x2._m = 3"
   ]
  },
  {
   "cell_type": "code",
   "execution_count": null,
   "metadata": {},
   "outputs": [],
   "source": [
    "Manifold.show_directions(fp_x1, fp_x2, ax=ax)"
   ]
  },
  {
   "cell_type": "code",
   "execution_count": 8,
   "metadata": {},
   "outputs": [
    {
     "data": {
      "text/plain": [
       "(<Figure size 640x480 with 1 Axes>, <Axes: >)"
      ]
     },
     "execution_count": 8,
     "metadata": {},
     "output_type": "execute_result"
    },
    {
     "data": {
      "image/png": "[encoded data removed]",
      "text/plain": [
       "<Figure size 640x480 with 1 Axes>"
      ]
     },
     "metadata": {},
     "output_type": "display_data"
    }
   ],
   "source": [
    "Manifold.show_directions(fp_x1, fp_x2)"
   ]
  },
  {
   "cell_type": "markdown",
   "metadata": {},
   "source": [
    "### Inner turnstile"
   ]
  },
  {
   "cell_type": "code",
   "execution_count": 9,
   "metadata": {},
   "outputs": [],
   "source": [
    "inner_manifold = Manifold(section, fp_x1, fp_x2, '-', '-', True)"
   ]
  },
  {
   "cell_type": "code",
   "execution_count": null,
   "metadata": {},
   "outputs": [],
   "source": [
    "inner_manifold.compute(nint_s=8, nint_u=8)\n",
    "inner_manifold.plot(\"stable\", rm_points=4, ax=ax)\n",
    "inner_manifold.plot(\"unstable\", rm_points=4, ax=ax)"
   ]
  },
  {
   "cell_type": "code",
   "execution_count": null,
   "metadata": {},
   "outputs": [],
   "source": [
    "eps_guess_s = inner_manifold.find_epsilon(\"stable\")\n",
    "eps_guess_u = inner_manifold.find_epsilon(\"unstable\")"
   ]
  },
  {
   "cell_type": "code",
   "execution_count": null,
   "metadata": {},
   "outputs": [],
   "source": [
    "inner_manifold.find_clinics(1e-7, 1e-7, n_points=4, shift=-1)"
   ]
  },
  {
   "cell_type": "code",
   "execution_count": null,
   "metadata": {},
   "outputs": [],
   "source": [
    "inner_manifold.plot_clinics(ax=ax)"
   ]
  },
  {
   "cell_type": "code",
   "execution_count": null,
   "metadata": {},
   "outputs": [],
   "source": [
    "inner_manifold._clinics._tuples"
   ]
  },
  {
   "cell_type": "code",
   "execution_count": null,
   "metadata": {},
   "outputs": [],
   "source": [
    "fig"
   ]
  },
  {
   "cell_type": "code",
   "execution_count": null,
   "metadata": {},
   "outputs": [],
   "source": [
    "inner_manifold.turnstile_area()"
   ]
  },
  {
   "cell_type": "markdown",
   "metadata": {},
   "source": [
    "### Outer turnstile"
   ]
  },
  {
   "cell_type": "code",
   "execution_count": 38,
   "metadata": {},
   "outputs": [],
   "source": [
    "outer_manifold = Manifold(section, fp_x1, fp_x2, '+', '-', False)"
   ]
  },
  {
   "cell_type": "code",
   "execution_count": null,
   "metadata": {},
   "outputs": [],
   "source": [
    "outer_manifold.compute(nint_s=8, nint_u=8)\n",
    "outer_manifold.plot(\"stable\", rm_points=4, ax=ax)\n",
    "outer_manifold.plot(\"unstable\", rm_points=4, ax=ax)"
   ]
  },
  {
   "cell_type": "code",
   "execution_count": null,
   "metadata": {},
   "outputs": [],
   "source": [
    "eps_guess_s = outer_manifold.find_epsilon(\"stable\")\n",
    "eps_guess_u = outer_manifold.find_epsilon(\"unstable\")"
   ]
  },
  {
   "cell_type": "code",
   "execution_count": null,
   "metadata": {},
   "outputs": [],
   "source": [
    "outer_manifold.find_clinics(eps_guess_s, eps_guess_u, n_points=4, shift=1, root_args={\"method\": \"lm\"})"
   ]
  },
  {
   "cell_type": "code",
   "execution_count": null,
   "metadata": {},
   "outputs": [],
   "source": [
    "outer_manifold.find_clinic_single(eps_guess_s * np.power(outer_manifold.lambda_s, -3/4),\n",
    "                                  eps_guess_u * np.power(outer_manifold.lambda_u, 3/4), \n",
    "                                  n_s=8, n_u=7, root_args={\"method\": \"lm\"}\n",
    ")"
   ]
  },
  {
   "cell_type": "code",
   "execution_count": null,
   "metadata": {},
   "outputs": [],
   "source": [
    "outer_manifold.plot_clinics(ax=ax)"
   ]
  },
  {
   "cell_type": "code",
   "execution_count": null,
   "metadata": {},
   "outputs": [],
   "source": [
    "fig"
   ]
  },
  {
   "cell_type": "code",
   "execution_count": null,
   "metadata": {},
   "outputs": [],
   "source": [
    "outer_manifold._clinics._tuples"
   ]
  },
  {
   "cell_type": "code",
   "execution_count": null,
   "metadata": {},
   "outputs": [],
   "source": [
    "fig"
   ]
  },
  {
   "cell_type": "code",
   "execution_count": null,
   "metadata": {},
   "outputs": [],
   "source": [
    "outer_manifold.turnstile_area()"
   ]
  }
 ],
 "metadata": {
  "kernelspec": {
   "display_name": "stellopt",
   "language": "python",
   "name": "python3"
  },
  "language_info": {
   "codemirror_mode": {
    "name": "ipython",
    "version": 3
   },
   "file_extension": ".py",
   "mimetype": "text/x-python",
   "name": "python",
   "nbconvert_exporter": "python",
   "pygments_lexer": "ipython3",
   "version": "3.10.15"
  }
 },
 "nbformat": 4,
 "nbformat_minor": 2
}
